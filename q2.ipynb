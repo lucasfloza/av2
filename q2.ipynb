{
 "cells": [
  {
   "cell_type": "markdown",
   "metadata": {},
   "source": [
    "# Questão"
   ]
  },
  {
   "cell_type": "markdown",
   "metadata": {
    "vscode": {
     "languageId": "plaintext"
    }
   },
   "source": [
    "![alt text](q2.png)"
   ]
  },
  {
   "cell_type": "markdown",
   "metadata": {},
   "source": [
    "# Diagrama"
   ]
  },
  {
   "cell_type": "code",
   "execution_count": 17,
   "metadata": {},
   "outputs": [
    {
     "name": "stdout",
     "output_type": "stream",
     "text": [
      "Requirement already satisfied: mermaid-py in c:\\users\\casa\\appdata\\local\\programs\\python\\python313\\lib\\site-packages (0.8.0)\n",
      "Requirement already satisfied: requests<3.0.0,>=2.31.0 in c:\\users\\casa\\appdata\\local\\programs\\python\\python313\\lib\\site-packages (from mermaid-py) (2.32.4)\n",
      "Requirement already satisfied: charset_normalizer<4,>=2 in c:\\users\\casa\\appdata\\local\\programs\\python\\python313\\lib\\site-packages (from requests<3.0.0,>=2.31.0->mermaid-py) (3.4.2)\n",
      "Requirement already satisfied: idna<4,>=2.5 in c:\\users\\casa\\appdata\\local\\programs\\python\\python313\\lib\\site-packages (from requests<3.0.0,>=2.31.0->mermaid-py) (3.10)\n",
      "Requirement already satisfied: urllib3<3,>=1.21.1 in c:\\users\\casa\\appdata\\local\\programs\\python\\python313\\lib\\site-packages (from requests<3.0.0,>=2.31.0->mermaid-py) (2.5.0)\n",
      "Requirement already satisfied: certifi>=2017.4.17 in c:\\users\\casa\\appdata\\local\\programs\\python\\python313\\lib\\site-packages (from requests<3.0.0,>=2.31.0->mermaid-py) (2025.6.15)\n",
      "Note: you may need to restart the kernel to use updated packages.\n"
     ]
    }
   ],
   "source": [
    "pip install mermaid-py"
   ]
  },
  {
   "cell_type": "code",
   "execution_count": 18,
   "metadata": {},
   "outputs": [
    {
     "data": {
      "text/html": [
       "<svg id=\"mermaid-svg\" width=\"100%\" xmlns=\"http://www.w3.org/2000/svg\" class=\"flowchart\" style=\"max-width: 880.09375px;\" viewBox=\"0 0 880.09375 1099\" role=\"graphics-document document\" aria-roledescription=\"flowchart-v2\" xmlns:xlink=\"http://www.w3.org/1999/xlink\"><style xmlns=\"http://www.w3.org/1999/xhtml\">@import url(\"https://cdnjs.cloudflare.com/ajax/libs/font-awesome/6.7.2/css/all.min.css\");</style><style>#mermaid-svg{font-family:\"trebuchet ms\",verdana,arial,sans-serif;font-size:16px;fill:#333;}@keyframes edge-animation-frame{from{stroke-dashoffset:0;}}@keyframes dash{to{stroke-dashoffset:0;}}#mermaid-svg .edge-animation-slow{stroke-dasharray:9,5!important;stroke-dashoffset:900;animation:dash 50s linear infinite;stroke-linecap:round;}#mermaid-svg .edge-animation-fast{stroke-dasharray:9,5!important;stroke-dashoffset:900;animation:dash 20s linear infinite;stroke-linecap:round;}#mermaid-svg .error-icon{fill:#552222;}#mermaid-svg .error-text{fill:#552222;stroke:#552222;}#mermaid-svg .edge-thickness-normal{stroke-width:1px;}#mermaid-svg .edge-thickness-thick{stroke-width:3.5px;}#mermaid-svg .edge-pattern-solid{stroke-dasharray:0;}#mermaid-svg .edge-thickness-invisible{stroke-width:0;fill:none;}#mermaid-svg .edge-pattern-dashed{stroke-dasharray:3;}#mermaid-svg .edge-pattern-dotted{stroke-dasharray:2;}#mermaid-svg .marker{fill:#333333;stroke:#333333;}#mermaid-svg .marker.cross{stroke:#333333;}#mermaid-svg svg{font-family:\"trebuchet ms\",verdana,arial,sans-serif;font-size:16px;}#mermaid-svg p{margin:0;}#mermaid-svg .label{font-family:\"trebuchet ms\",verdana,arial,sans-serif;color:#333;}#mermaid-svg .cluster-label text{fill:#333;}#mermaid-svg .cluster-label span{color:#333;}#mermaid-svg .cluster-label span p{background-color:transparent;}#mermaid-svg .label text,#mermaid-svg span{fill:#333;color:#333;}#mermaid-svg .node rect,#mermaid-svg .node circle,#mermaid-svg .node ellipse,#mermaid-svg .node polygon,#mermaid-svg .node path{fill:#ECECFF;stroke:#9370DB;stroke-width:1px;}#mermaid-svg .rough-node .label text,#mermaid-svg .node .label text,#mermaid-svg .image-shape .label,#mermaid-svg .icon-shape .label{text-anchor:middle;}#mermaid-svg .node .katex path{fill:#000;stroke:#000;stroke-width:1px;}#mermaid-svg .rough-node .label,#mermaid-svg .node .label,#mermaid-svg .image-shape .label,#mermaid-svg .icon-shape .label{text-align:center;}#mermaid-svg .node.clickable{cursor:pointer;}#mermaid-svg .root .anchor path{fill:#333333!important;stroke-width:0;stroke:#333333;}#mermaid-svg .arrowheadPath{fill:#333333;}#mermaid-svg .edgePath .path{stroke:#333333;stroke-width:2.0px;}#mermaid-svg .flowchart-link{stroke:#333333;fill:none;}#mermaid-svg .edgeLabel{background-color:rgba(232,232,232, 0.8);text-align:center;}#mermaid-svg .edgeLabel p{background-color:rgba(232,232,232, 0.8);}#mermaid-svg .edgeLabel rect{opacity:0.5;background-color:rgba(232,232,232, 0.8);fill:rgba(232,232,232, 0.8);}#mermaid-svg .labelBkg{background-color:rgba(232, 232, 232, 0.5);}#mermaid-svg .cluster rect{fill:#ffffde;stroke:#aaaa33;stroke-width:1px;}#mermaid-svg .cluster text{fill:#333;}#mermaid-svg .cluster span{color:#333;}#mermaid-svg div.mermaidTooltip{position:absolute;text-align:center;max-width:200px;padding:2px;font-family:\"trebuchet ms\",verdana,arial,sans-serif;font-size:12px;background:hsl(80, 100%, 96.2745098039%);border:1px solid #aaaa33;border-radius:2px;pointer-events:none;z-index:100;}#mermaid-svg .flowchartTitleText{text-anchor:middle;font-size:18px;fill:#333;}#mermaid-svg rect.text{fill:none;stroke-width:0;}#mermaid-svg .icon-shape,#mermaid-svg .image-shape{background-color:rgba(232,232,232, 0.8);text-align:center;}#mermaid-svg .icon-shape p,#mermaid-svg .image-shape p{background-color:rgba(232,232,232, 0.8);padding:2px;}#mermaid-svg .icon-shape rect,#mermaid-svg .image-shape rect{opacity:0.5;background-color:rgba(232,232,232, 0.8);fill:rgba(232,232,232, 0.8);}#mermaid-svg :root{--mermaid-font-family:\"trebuchet ms\",verdana,arial,sans-serif;}</style><g><marker id=\"mermaid-svg_flowchart-v2-pointEnd\" class=\"marker flowchart-v2\" viewBox=\"0 0 10 10\" refX=\"5\" refY=\"5\" markerUnits=\"userSpaceOnUse\" markerWidth=\"8\" markerHeight=\"8\" orient=\"auto\"><path d=\"M 0 0 L 10 5 L 0 10 z\" class=\"arrowMarkerPath\" style=\"stroke-width: 1; stroke-dasharray: 1, 0;\"/></marker><marker id=\"mermaid-svg_flowchart-v2-pointStart\" class=\"marker flowchart-v2\" viewBox=\"0 0 10 10\" refX=\"4.5\" refY=\"5\" markerUnits=\"userSpaceOnUse\" markerWidth=\"8\" markerHeight=\"8\" orient=\"auto\"><path d=\"M 0 5 L 10 10 L 10 0 z\" class=\"arrowMarkerPath\" style=\"stroke-width: 1; stroke-dasharray: 1, 0;\"/></marker><marker id=\"mermaid-svg_flowchart-v2-circleEnd\" class=\"marker flowchart-v2\" viewBox=\"0 0 10 10\" refX=\"11\" refY=\"5\" markerUnits=\"userSpaceOnUse\" markerWidth=\"11\" markerHeight=\"11\" orient=\"auto\"><circle cx=\"5\" cy=\"5\" r=\"5\" class=\"arrowMarkerPath\" style=\"stroke-width: 1; stroke-dasharray: 1, 0;\"/></marker><marker id=\"mermaid-svg_flowchart-v2-circleStart\" class=\"marker flowchart-v2\" viewBox=\"0 0 10 10\" refX=\"-1\" refY=\"5\" markerUnits=\"userSpaceOnUse\" markerWidth=\"11\" markerHeight=\"11\" orient=\"auto\"><circle cx=\"5\" cy=\"5\" r=\"5\" class=\"arrowMarkerPath\" style=\"stroke-width: 1; stroke-dasharray: 1, 0;\"/></marker><marker id=\"mermaid-svg_flowchart-v2-crossEnd\" class=\"marker cross flowchart-v2\" viewBox=\"0 0 11 11\" refX=\"12\" refY=\"5.2\" markerUnits=\"userSpaceOnUse\" markerWidth=\"11\" markerHeight=\"11\" orient=\"auto\"><path d=\"M 1,1 l 9,9 M 10,1 l -9,9\" class=\"arrowMarkerPath\" style=\"stroke-width: 2; stroke-dasharray: 1, 0;\"/></marker><marker id=\"mermaid-svg_flowchart-v2-crossStart\" class=\"marker cross flowchart-v2\" viewBox=\"0 0 11 11\" refX=\"-1\" refY=\"5.2\" markerUnits=\"userSpaceOnUse\" markerWidth=\"11\" markerHeight=\"11\" orient=\"auto\"><path d=\"M 1,1 l 9,9 M 10,1 l -9,9\" class=\"arrowMarkerPath\" style=\"stroke-width: 2; stroke-dasharray: 1, 0;\"/></marker><g class=\"root\"><g class=\"clusters\"/><g class=\"edgePaths\"><path d=\"M423.734,228.5L423.734,260.417C423.734,292.333,423.734,356.167,423.734,391.583C423.734,427,423.734,434,423.734,437.5L423.734,441\" id=\"L_Start_A_0\" class=\" edge-thickness-normal edge-pattern-solid edge-thickness-normal edge-pattern-solid flowchart-link\" style=\"\" marker-end=\"url(#mermaid-svg_flowchart-v2-pointEnd)\"/><path d=\"M299.008,493.723L270.034,498.769C241.06,503.815,183.112,513.908,154.138,524.454C125.164,535,125.164,546,125.164,551.5L125.164,557\" id=\"L_A_B_0\" class=\" edge-thickness-normal edge-pattern-solid edge-thickness-normal edge-pattern-solid flowchart-link\" style=\"\" marker-end=\"url(#mermaid-svg_flowchart-v2-pointEnd)\"/><path d=\"M423.734,499L423.734,503.167C423.734,507.333,423.734,515.667,423.734,523.333C423.734,531,423.734,538,423.734,541.5L423.734,545\" id=\"L_A_C_0\" class=\" edge-thickness-normal edge-pattern-solid edge-thickness-normal edge-pattern-solid flowchart-link\" style=\"\" marker-end=\"url(#mermaid-svg_flowchart-v2-pointEnd)\"/><path d=\"M548.461,492.597L580.154,497.831C611.846,503.065,675.232,513.532,706.924,522.266C738.617,531,738.617,538,738.617,541.5L738.617,545\" id=\"L_A_D_0\" class=\" edge-thickness-normal edge-pattern-solid edge-thickness-normal edge-pattern-solid flowchart-link\" style=\"\" marker-end=\"url(#mermaid-svg_flowchart-v2-pointEnd)\"/><path d=\"M125.164,615L125.164,621.167C125.164,627.333,125.164,639.667,125.164,651.333C125.164,663,125.164,674,125.164,679.5L125.164,685\" id=\"L_B_E_0\" class=\" edge-thickness-normal edge-pattern-solid edge-thickness-normal edge-pattern-solid flowchart-link\" style=\"\" marker-end=\"url(#mermaid-svg_flowchart-v2-pointEnd)\"/><path d=\"M125.164,743L125.164,749.167C125.164,755.333,125.164,767.667,125.164,779.333C125.164,791,125.164,802,125.164,807.5L125.164,813\" id=\"L_E_F_0\" class=\" edge-thickness-normal edge-pattern-solid edge-thickness-normal edge-pattern-solid flowchart-link\" style=\"\" marker-end=\"url(#mermaid-svg_flowchart-v2-pointEnd)\"/><path d=\"M125.164,871L125.164,877.167C125.164,883.333,125.164,895.667,125.164,905.333C125.164,915,125.164,922,125.164,925.5L125.164,929\" id=\"L_F_G_0\" class=\" edge-thickness-normal edge-pattern-solid edge-thickness-normal edge-pattern-solid flowchart-link\" style=\"\" marker-end=\"url(#mermaid-svg_flowchart-v2-pointEnd)\"/><path d=\"M423.734,627L423.734,631.167C423.734,635.333,423.734,643.667,423.734,653.333C423.734,663,423.734,674,423.734,679.5L423.734,685\" id=\"L_C_H_0\" class=\" edge-thickness-normal edge-pattern-solid edge-thickness-normal edge-pattern-solid flowchart-link\" style=\"\" marker-end=\"url(#mermaid-svg_flowchart-v2-pointEnd)\"/><path d=\"M423.734,743L423.734,749.167C423.734,755.333,423.734,767.667,423.734,779.333C423.734,791,423.734,802,423.734,807.5L423.734,813\" id=\"L_H_I_0\" class=\" edge-thickness-normal edge-pattern-solid edge-thickness-normal edge-pattern-solid flowchart-link\" style=\"\" marker-end=\"url(#mermaid-svg_flowchart-v2-pointEnd)\"/><path d=\"M423.734,871L423.734,877.167C423.734,883.333,423.734,895.667,423.734,905.333C423.734,915,423.734,922,423.734,925.5L423.734,929\" id=\"L_I_J_0\" class=\" edge-thickness-normal edge-pattern-solid edge-thickness-normal edge-pattern-solid flowchart-link\" style=\"\" marker-end=\"url(#mermaid-svg_flowchart-v2-pointEnd)\"/><path d=\"M423.734,987L423.734,991.167C423.734,995.333,423.734,1003.667,423.734,1011.333C423.734,1019,423.734,1026,423.734,1029.5L423.734,1033\" id=\"L_J_K_0\" class=\" edge-thickness-normal edge-pattern-solid edge-thickness-normal edge-pattern-solid flowchart-link\" style=\"\" marker-end=\"url(#mermaid-svg_flowchart-v2-pointEnd)\"/><path d=\"M738.617,627L738.617,631.167C738.617,635.333,738.617,643.667,738.617,651.333C738.617,659,738.617,666,738.617,669.5L738.617,673\" id=\"L_D_L_0\" class=\" edge-thickness-normal edge-pattern-solid edge-thickness-normal edge-pattern-solid flowchart-link\" style=\"\" marker-end=\"url(#mermaid-svg_flowchart-v2-pointEnd)\"/><path d=\"M738.617,755L738.617,759.167C738.617,763.333,738.617,771.667,738.617,779.333C738.617,787,738.617,794,738.617,797.5L738.617,801\" id=\"L_L_M_0\" class=\" edge-thickness-normal edge-pattern-solid edge-thickness-normal edge-pattern-solid flowchart-link\" style=\"\" marker-end=\"url(#mermaid-svg_flowchart-v2-pointEnd)\"/><path d=\"M738.617,883L738.617,887.167C738.617,891.333,738.617,899.667,738.617,907.333C738.617,915,738.617,922,738.617,925.5L738.617,929\" id=\"L_M_N_0\" class=\" edge-thickness-normal edge-pattern-solid edge-thickness-normal edge-pattern-solid flowchart-link\" style=\"\" marker-end=\"url(#mermaid-svg_flowchart-v2-pointEnd)\"/></g><g class=\"edgeLabels\"><g class=\"edgeLabel\"><g class=\"label\" transform=\"translate(0, 0)\"><foreignObject width=\"0\" height=\"0\"><div xmlns=\"http://www.w3.org/1999/xhtml\" class=\"labelBkg\" style=\"display: table-cell; white-space: nowrap; line-height: 1.5; max-width: 200px; text-align: center;\"><span class=\"edgeLabel \"></span></div></foreignObject></g></g><g class=\"edgeLabel\"><g class=\"label\" transform=\"translate(0, 0)\"><foreignObject width=\"0\" height=\"0\"><div xmlns=\"http://www.w3.org/1999/xhtml\" class=\"labelBkg\" style=\"display: table-cell; white-space: nowrap; line-height: 1.5; max-width: 200px; text-align: center;\"><span class=\"edgeLabel \"></span></div></foreignObject></g></g><g class=\"edgeLabel\"><g class=\"label\" transform=\"translate(0, 0)\"><foreignObject width=\"0\" height=\"0\"><div xmlns=\"http://www.w3.org/1999/xhtml\" class=\"labelBkg\" style=\"display: table-cell; white-space: nowrap; line-height: 1.5; max-width: 200px; text-align: center;\"><span class=\"edgeLabel \"></span></div></foreignObject></g></g><g class=\"edgeLabel\"><g class=\"label\" transform=\"translate(0, 0)\"><foreignObject width=\"0\" height=\"0\"><div xmlns=\"http://www.w3.org/1999/xhtml\" class=\"labelBkg\" style=\"display: table-cell; white-space: nowrap; line-height: 1.5; max-width: 200px; text-align: center;\"><span class=\"edgeLabel \"></span></div></foreignObject></g></g><g class=\"edgeLabel\"><g class=\"label\" transform=\"translate(0, 0)\"><foreignObject width=\"0\" height=\"0\"><div xmlns=\"http://www.w3.org/1999/xhtml\" class=\"labelBkg\" style=\"display: table-cell; white-space: nowrap; line-height: 1.5; max-width: 200px; text-align: center;\"><span class=\"edgeLabel \"></span></div></foreignObject></g></g><g class=\"edgeLabel\"><g class=\"label\" transform=\"translate(0, 0)\"><foreignObject width=\"0\" height=\"0\"><div xmlns=\"http://www.w3.org/1999/xhtml\" class=\"labelBkg\" style=\"display: table-cell; white-space: nowrap; line-height: 1.5; max-width: 200px; text-align: center;\"><span class=\"edgeLabel \"></span></div></foreignObject></g></g><g class=\"edgeLabel\"><g class=\"label\" transform=\"translate(0, 0)\"><foreignObject width=\"0\" height=\"0\"><div xmlns=\"http://www.w3.org/1999/xhtml\" class=\"labelBkg\" style=\"display: table-cell; white-space: nowrap; line-height: 1.5; max-width: 200px; text-align: center;\"><span class=\"edgeLabel \"></span></div></foreignObject></g></g><g class=\"edgeLabel\"><g class=\"label\" transform=\"translate(0, 0)\"><foreignObject width=\"0\" height=\"0\"><div xmlns=\"http://www.w3.org/1999/xhtml\" class=\"labelBkg\" style=\"display: table-cell; white-space: nowrap; line-height: 1.5; max-width: 200px; text-align: center;\"><span class=\"edgeLabel \"></span></div></foreignObject></g></g><g class=\"edgeLabel\"><g class=\"label\" transform=\"translate(0, 0)\"><foreignObject width=\"0\" height=\"0\"><div xmlns=\"http://www.w3.org/1999/xhtml\" class=\"labelBkg\" style=\"display: table-cell; white-space: nowrap; line-height: 1.5; max-width: 200px; text-align: center;\"><span class=\"edgeLabel \"></span></div></foreignObject></g></g><g class=\"edgeLabel\"><g class=\"label\" transform=\"translate(0, 0)\"><foreignObject width=\"0\" height=\"0\"><div xmlns=\"http://www.w3.org/1999/xhtml\" class=\"labelBkg\" style=\"display: table-cell; white-space: nowrap; line-height: 1.5; max-width: 200px; text-align: center;\"><span class=\"edgeLabel \"></span></div></foreignObject></g></g><g class=\"edgeLabel\"><g class=\"label\" transform=\"translate(0, 0)\"><foreignObject width=\"0\" height=\"0\"><div xmlns=\"http://www.w3.org/1999/xhtml\" class=\"labelBkg\" style=\"display: table-cell; white-space: nowrap; line-height: 1.5; max-width: 200px; text-align: center;\"><span class=\"edgeLabel \"></span></div></foreignObject></g></g><g class=\"edgeLabel\"><g class=\"label\" transform=\"translate(0, 0)\"><foreignObject width=\"0\" height=\"0\"><div xmlns=\"http://www.w3.org/1999/xhtml\" class=\"labelBkg\" style=\"display: table-cell; white-space: nowrap; line-height: 1.5; max-width: 200px; text-align: center;\"><span class=\"edgeLabel \"></span></div></foreignObject></g></g><g class=\"edgeLabel\"><g class=\"label\" transform=\"translate(0, 0)\"><foreignObject width=\"0\" height=\"0\"><div xmlns=\"http://www.w3.org/1999/xhtml\" class=\"labelBkg\" style=\"display: table-cell; white-space: nowrap; line-height: 1.5; max-width: 200px; text-align: center;\"><span class=\"edgeLabel \"></span></div></foreignObject></g></g><g class=\"edgeLabel\"><g class=\"label\" transform=\"translate(0, 0)\"><foreignObject width=\"0\" height=\"0\"><div xmlns=\"http://www.w3.org/1999/xhtml\" class=\"labelBkg\" style=\"display: table-cell; white-space: nowrap; line-height: 1.5; max-width: 200px; text-align: center;\"><span class=\"edgeLabel \"></span></div></foreignObject></g></g></g><g class=\"nodes\"><g class=\"root\" transform=\"translate(22.5234375, 0)\"><g class=\"clusters\"><g class=\"cluster \" id=\"calculate_altitude\" data-look=\"classic\"><rect style=\"\" x=\"8\" y=\"8\" width=\"296.3125\" height=\"387\"/><g class=\"cluster-label \" transform=\"translate(94.3359375, 8)\"><foreignObject width=\"123.640625\" height=\"24\"><div xmlns=\"http://www.w3.org/1999/xhtml\" style=\"display: table-cell; white-space: nowrap; line-height: 1.5; max-width: 200px; text-align: center;\"><span class=\"nodeLabel \"><p>calculate_altitude</p></span></div></foreignObject></g></g></g><g class=\"edgePaths\"><path d=\"M156.156,99.5L156.156,105.75C156.156,112,156.156,124.5,156.156,136.333C156.156,148.167,156.156,159.333,156.156,164.917L156.156,170.5\" id=\"L_X1_X2_0\" class=\" edge-thickness-normal edge-pattern-solid edge-thickness-normal edge-pattern-solid flowchart-link\" style=\"\" marker-end=\"url(#mermaid-svg_flowchart-v2-pointEnd)\"/><path d=\"M156.156,228.5L156.156,234.75C156.156,241,156.156,253.5,156.156,265.333C156.156,277.167,156.156,288.333,156.156,293.917L156.156,299.5\" id=\"L_X2_X3_0\" class=\" edge-thickness-normal edge-pattern-solid edge-thickness-normal edge-pattern-solid flowchart-link\" style=\"\" marker-end=\"url(#mermaid-svg_flowchart-v2-pointEnd)\"/></g><g class=\"edgeLabels\"><g class=\"edgeLabel\"><g class=\"label\" transform=\"translate(0, 0)\"><foreignObject width=\"0\" height=\"0\"><div xmlns=\"http://www.w3.org/1999/xhtml\" class=\"labelBkg\" style=\"display: table-cell; white-space: nowrap; line-height: 1.5; max-width: 200px; text-align: center;\"><span class=\"edgeLabel \"></span></div></foreignObject></g></g><g class=\"edgeLabel\"><g class=\"label\" transform=\"translate(0, 0)\"><foreignObject width=\"0\" height=\"0\"><div xmlns=\"http://www.w3.org/1999/xhtml\" class=\"labelBkg\" style=\"display: table-cell; white-space: nowrap; line-height: 1.5; max-width: 200px; text-align: center;\"><span class=\"edgeLabel \"></span></div></foreignObject></g></g></g><g class=\"nodes\"><g class=\"node default  \" id=\"flowchart-X1-28\" transform=\"translate(156.15625, 72.5)\"><rect class=\"basic label-container\" style=\"\" x=\"-69.8671875\" y=\"-27\" width=\"139.734375\" height=\"54\"/><g class=\"label\" style=\"\" transform=\"translate(-39.8671875, -12)\"><rect/><foreignObject width=\"79.734375\" height=\"24\"><div xmlns=\"http://www.w3.org/1999/xhtml\" style=\"display: table-cell; white-space: nowrap; line-height: 1.5; max-width: 200px; text-align: center;\"><span class=\"nodeLabel \"><p>Receives T</p></span></div></foreignObject></g></g><g class=\"node default  \" id=\"flowchart-X2-29\" transform=\"translate(156.15625, 201.5)\"><rect class=\"basic label-container\" style=\"\" x=\"-113.15625\" y=\"-27\" width=\"226.3125\" height=\"54\"/><g class=\"label\" style=\"\" transform=\"translate(-83.15625, -12)\"><rect/><foreignObject width=\"166.3125\" height=\"24\"><div xmlns=\"http://www.w3.org/1999/xhtml\" style=\"display: table-cell; white-space: nowrap; line-height: 1.5; max-width: 200px; text-align: center;\"><span class=\"nodeLabel \"><p>Applies altitude formula</p></span></div></foreignObject></g></g><g class=\"node default  \" id=\"flowchart-X3-31\" transform=\"translate(156.15625, 330.5)\"><rect class=\"basic label-container\" style=\"\" x=\"-64.6875\" y=\"-27\" width=\"129.375\" height=\"54\"/><g class=\"label\" style=\"\" transform=\"translate(-34.6875, -12)\"><rect/><foreignObject width=\"69.375\" height=\"24\"><div xmlns=\"http://www.w3.org/1999/xhtml\" style=\"display: table-cell; white-space: nowrap; line-height: 1.5; max-width: 200px; text-align: center;\"><span class=\"nodeLabel \"><p>Returns h</p></span></div></foreignObject></g></g></g></g><g class=\"node default  \" id=\"flowchart-Start-0\" transform=\"translate(423.734375, 201.5)\"><rect class=\"basic label-container\" style=\"\" x=\"-46.8984375\" y=\"-27\" width=\"93.796875\" height=\"54\"/><g class=\"label\" style=\"\" transform=\"translate(-16.8984375, -12)\"><rect/><foreignObject width=\"33.796875\" height=\"24\"><div xmlns=\"http://www.w3.org/1999/xhtml\" style=\"display: table-cell; white-space: nowrap; line-height: 1.5; max-width: 200px; text-align: center;\"><span class=\"nodeLabel \"><p>Start</p></span></div></foreignObject></g></g><g class=\"node default  \" id=\"flowchart-A-1\" transform=\"translate(423.734375, 472)\"><rect class=\"basic label-container\" style=\"\" x=\"-124.7265625\" y=\"-27\" width=\"249.453125\" height=\"54\"/><g class=\"label\" style=\"\" transform=\"translate(-94.7265625, -12)\"><rect/><foreignObject width=\"189.453125\" height=\"24\"><div xmlns=\"http://www.w3.org/1999/xhtml\" style=\"display: table-cell; white-space: nowrap; line-height: 1.5; max-width: 200px; text-align: center;\"><span class=\"nodeLabel \"><p>Function calculate_altitude</p></span></div></foreignObject></g></g><g class=\"node default  \" id=\"flowchart-B-3\" transform=\"translate(125.1640625, 588)\"><rect class=\"basic label-container\" style=\"\" x=\"-117.1640625\" y=\"-27\" width=\"234.328125\" height=\"54\"/><g class=\"label\" style=\"\" transform=\"translate(-87.1640625, -12)\"><rect/><foreignObject width=\"174.328125\" height=\"24\"><div xmlns=\"http://www.w3.org/1999/xhtml\" style=\"display: table-cell; white-space: nowrap; line-height: 1.5; max-width: 200px; text-align: center;\"><span class=\"nodeLabel \"><p>Function ask_user_input</p></span></div></foreignObject></g></g><g class=\"node default  \" id=\"flowchart-C-5\" transform=\"translate(423.734375, 588)\"><rect class=\"basic label-container\" style=\"\" x=\"-131.40625\" y=\"-39\" width=\"262.8125\" height=\"78\"/><g class=\"label\" style=\"\" transform=\"translate(-101.40625, -24)\"><rect/><foreignObject width=\"202.8125\" height=\"48\"><div xmlns=\"http://www.w3.org/1999/xhtml\" style=\"display: table; white-space: break-spaces; line-height: 1.5; max-width: 200px; text-align: center; width: 200px;\"><span class=\"nodeLabel \"><p>Function calculate_standard_altitudes</p></span></div></foreignObject></g></g><g class=\"node default  \" id=\"flowchart-D-7\" transform=\"translate(738.6171875, 588)\"><rect class=\"basic label-container\" style=\"\" x=\"-133.4765625\" y=\"-39\" width=\"266.953125\" height=\"78\"/><g class=\"label\" style=\"\" transform=\"translate(-103.4765625, -24)\"><rect/><foreignObject width=\"206.953125\" height=\"48\"><div xmlns=\"http://www.w3.org/1999/xhtml\" style=\"display: table; white-space: break-spaces; line-height: 1.5; max-width: 200px; text-align: center; width: 200px;\"><span class=\"nodeLabel \"><p>Function calculate_sidereal_difference</p></span></div></foreignObject></g></g><g class=\"node default  \" id=\"flowchart-E-9\" transform=\"translate(125.1640625, 716)\"><rect class=\"basic label-container\" style=\"\" x=\"-100.2578125\" y=\"-27\" width=\"200.515625\" height=\"54\"/><g class=\"label\" style=\"\" transform=\"translate(-70.2578125, -12)\"><rect/><foreignObject width=\"140.515625\" height=\"24\"><div xmlns=\"http://www.w3.org/1999/xhtml\" style=\"display: table-cell; white-space: nowrap; line-height: 1.5; max-width: 200px; text-align: center;\"><span class=\"nodeLabel \"><p>Receives user input</p></span></div></foreignObject></g></g><g class=\"node default  \" id=\"flowchart-F-11\" transform=\"translate(125.1640625, 844)\"><rect class=\"basic label-container\" style=\"\" x=\"-111.828125\" y=\"-27\" width=\"223.65625\" height=\"54\"/><g class=\"label\" style=\"\" transform=\"translate(-81.828125, -12)\"><rect/><foreignObject width=\"163.65625\" height=\"24\"><div xmlns=\"http://www.w3.org/1999/xhtml\" style=\"display: table-cell; white-space: nowrap; line-height: 1.5; max-width: 200px; text-align: center;\"><span class=\"nodeLabel \"><p>Calls calculate_altitude</p></span></div></foreignObject></g></g><g class=\"node default  \" id=\"flowchart-G-13\" transform=\"translate(125.1640625, 960)\"><rect class=\"basic label-container\" style=\"\" x=\"-116.71875\" y=\"-27\" width=\"233.4375\" height=\"54\"/><g class=\"label\" style=\"\" transform=\"translate(-86.71875, -12)\"><rect/><foreignObject width=\"173.4375\" height=\"24\"><div xmlns=\"http://www.w3.org/1999/xhtml\" style=\"display: table-cell; white-space: nowrap; line-height: 1.5; max-width: 200px; text-align: center;\"><span class=\"nodeLabel \"><p>Prints calculated altitude</p></span></div></foreignObject></g></g><g class=\"node default  \" id=\"flowchart-H-15\" transform=\"translate(423.734375, 716)\"><rect class=\"basic label-container\" style=\"\" x=\"-118.046875\" y=\"-27\" width=\"236.09375\" height=\"54\"/><g class=\"label\" style=\"\" transform=\"translate(-88.046875, -12)\"><rect/><foreignObject width=\"176.09375\" height=\"24\"><div xmlns=\"http://www.w3.org/1999/xhtml\" style=\"display: table-cell; white-space: nowrap; line-height: 1.5; max-width: 200px; text-align: center;\"><span class=\"nodeLabel \"><p>Defines period dictionary</p></span></div></foreignObject></g></g><g class=\"node default  \" id=\"flowchart-I-17\" transform=\"translate(423.734375, 844)\"><rect class=\"basic label-container\" style=\"\" x=\"-85.890625\" y=\"-27\" width=\"171.78125\" height=\"54\"/><g class=\"label\" style=\"\" transform=\"translate(-55.890625, -12)\"><rect/><foreignObject width=\"111.78125\" height=\"24\"><div xmlns=\"http://www.w3.org/1999/xhtml\" style=\"display: table-cell; white-space: nowrap; line-height: 1.5; max-width: 200px; text-align: center;\"><span class=\"nodeLabel \"><p>Loop for each T</p></span></div></foreignObject></g></g><g class=\"node default  \" id=\"flowchart-J-19\" transform=\"translate(423.734375, 960)\"><rect class=\"basic label-container\" style=\"\" x=\"-111.828125\" y=\"-27\" width=\"223.65625\" height=\"54\"/><g class=\"label\" style=\"\" transform=\"translate(-81.828125, -12)\"><rect/><foreignObject width=\"163.65625\" height=\"24\"><div xmlns=\"http://www.w3.org/1999/xhtml\" style=\"display: table-cell; white-space: nowrap; line-height: 1.5; max-width: 200px; text-align: center;\"><span class=\"nodeLabel \"><p>Calls calculate_altitude</p></span></div></foreignObject></g></g><g class=\"node default  \" id=\"flowchart-K-21\" transform=\"translate(423.734375, 1064)\"><rect class=\"basic label-container\" style=\"\" x=\"-78.46875\" y=\"-27\" width=\"156.9375\" height=\"54\"/><g class=\"label\" style=\"\" transform=\"translate(-48.46875, -12)\"><rect/><foreignObject width=\"96.9375\" height=\"24\"><div xmlns=\"http://www.w3.org/1999/xhtml\" style=\"display: table-cell; white-space: nowrap; line-height: 1.5; max-width: 200px; text-align: center;\"><span class=\"nodeLabel \"><p>Prints altitude</p></span></div></foreignObject></g></g><g class=\"node default  \" id=\"flowchart-L-23\" transform=\"translate(738.6171875, 716)\"><rect class=\"basic label-container\" style=\"\" x=\"-130\" y=\"-39\" width=\"260\" height=\"78\"/><g class=\"label\" style=\"\" transform=\"translate(-100, -24)\"><rect/><foreignObject width=\"200\" height=\"48\"><div xmlns=\"http://www.w3.org/1999/xhtml\" style=\"display: table; white-space: break-spaces; line-height: 1.5; max-width: 200px; text-align: center; width: 200px;\"><span class=\"nodeLabel \"><p>Calculates h for 86400s and 86164s</p></span></div></foreignObject></g></g><g class=\"node default  \" id=\"flowchart-M-25\" transform=\"translate(738.6171875, 844)\"><rect class=\"basic label-container\" style=\"\" x=\"-130\" y=\"-39\" width=\"260\" height=\"78\"/><g class=\"label\" style=\"\" transform=\"translate(-100, -24)\"><rect/><foreignObject width=\"200\" height=\"48\"><div xmlns=\"http://www.w3.org/1999/xhtml\" style=\"display: table; white-space: break-spaces; line-height: 1.5; max-width: 200px; text-align: center; width: 200px;\"><span class=\"nodeLabel \"><p>Calculates altitude difference</p></span></div></foreignObject></g></g><g class=\"node default  \" id=\"flowchart-N-27\" transform=\"translate(738.6171875, 960)\"><rect class=\"basic label-container\" style=\"\" x=\"-76.234375\" y=\"-27\" width=\"152.46875\" height=\"54\"/><g class=\"label\" style=\"\" transform=\"translate(-46.234375, -12)\"><rect/><foreignObject width=\"92.46875\" height=\"24\"><div xmlns=\"http://www.w3.org/1999/xhtml\" style=\"display: table-cell; white-space: nowrap; line-height: 1.5; max-width: 200px; text-align: center;\"><span class=\"nodeLabel \"><p>Prints results</p></span></div></foreignObject></g></g></g></g></g></svg>"
      ],
      "text/plain": [
       "<mermaid.__main__.Mermaid at 0x2cd3aa95c70>"
      ]
     },
     "execution_count": 18,
     "metadata": {},
     "output_type": "execute_result"
    }
   ],
   "source": [
    "import mermaid as md\n",
    "from mermaid.graph import Graph\n",
    "\n",
    "render = md.Mermaid(\"\"\"\n",
    "graph TD\n",
    "    Start[Start] --> A[Function calculate_altitude]\n",
    "    A --> B[Function ask_user_input]\n",
    "    A --> C[Function calculate_standard_altitudes]\n",
    "    A --> D[Function calculate_sidereal_difference]\n",
    "    B --> E[Receives user input]\n",
    "    E --> F[Calls calculate_altitude]\n",
    "    F --> G[Prints calculated altitude]\n",
    "    C --> H[Defines period dictionary]\n",
    "    H --> I[Loop for each T]\n",
    "    I --> J[Calls calculate_altitude]\n",
    "    J --> K[Prints altitude]\n",
    "    D --> L[Calculates h for 86400s and 86164s]\n",
    "    L --> M[Calculates altitude difference]\n",
    "    M --> N[Prints results]\n",
    "\n",
    "    %% calculate_altitude\n",
    "    subgraph calculate_altitude\n",
    "        X1[Receives T] --> X2[Applies altitude formula]\n",
    "        X2 --> X3[Returns h]\n",
    "    end\n",
    "\"\"\")\n",
    "render\n",
    "\n"
   ]
  },
  {
   "cell_type": "markdown",
   "metadata": {},
   "source": [
    "# Código"
   ]
  },
  {
   "cell_type": "markdown",
   "metadata": {},
   "source": [
    "### A)"
   ]
  },
  {
   "cell_type": "code",
   "execution_count": 19,
   "metadata": {},
   "outputs": [],
   "source": [
    "import math\n",
    "\n",
    "# Provided constants\n",
    "G = 6.67e-11  # Gravitational constant (m^3 kg^-1 s^-2)\n",
    "M = 5.97e24   # Mass of the Earth (kg)\n",
    "R = 6371e3    # Radius of the Earth (m)\n",
    "\n",
    "def calculate_altitude(T):\n",
    "    term = (G * M * T**2) / (4 * math.pi**2)\n",
    "    h = term**(1/3) - R\n",
    "    return h"
   ]
  },
  {
   "cell_type": "markdown",
   "metadata": {},
   "source": [
    "## B)"
   ]
  },
  {
   "cell_type": "code",
   "execution_count": 20,
   "metadata": {},
   "outputs": [],
   "source": [
    "def ask_user_input():\n",
    "    T = float(input(\"Enter the orbital period T in seconds: \"))\n",
    "    h = calculate_altitude(T)\n",
    "    print(f\"For T = {T} seconds, the satellite's altitude should be {h/1000:.2f} km.\")"
   ]
  },
  {
   "cell_type": "markdown",
   "metadata": {},
   "source": [
    "## C)"
   ]
  },
  {
   "cell_type": "code",
   "execution_count": 21,
   "metadata": {},
   "outputs": [],
   "source": [
    "def calculate_standard_altitudes():\n",
    "    periods = {\n",
    "        \"Geosynchronous (1 day = 86400s)\": 86400,\n",
    "        \"Low orbit (90 min = 5400s)\": 5400,\n",
    "        \"Very low orbit (45 min = 2700s)\": 2700,\n",
    "    }\n",
    "\n",
    "    for name, T in periods.items():\n",
    "        h = calculate_altitude(T)\n",
    "        print(f\"{name}: Altitude = {h/1000:.2f} km\")"
   ]
  },
  {
   "cell_type": "markdown",
   "metadata": {},
   "source": [
    "## D)"
   ]
  },
  {
   "cell_type": "code",
   "execution_count": null,
   "metadata": {},
   "outputs": [],
   "source": [
    "def calculate_sidereal_difference():\n",
    "    h_solar = calculate_altitude(86400)\n",
    "    h_sidereal = calculate_altitude(86164)\n",
    "    difference = h_solar - h_sidereal\n",
    "\n",
    "    print(\"[d] A correct geosynchronous satellite uses the **sidereal day** (~23.93h or 86164s), not the solar day (86400s).\")\n",
    "    print(f\"Altitude for T = 86400s (solar day): {h_solar/1000:.2f} km\")\n",
    "    print(f\"Altitude for T = 86164s (sidereal day): {h_sidereal/1000:.2f} km\")\n",
    "    print(f\"→ Altitude difference: {difference:.2f} m\")"
   ]
  },
  {
   "cell_type": "markdown",
   "metadata": {},
   "source": [
    "## Executando tudo"
   ]
  },
  {
   "cell_type": "code",
   "execution_count": 23,
   "metadata": {},
   "outputs": [
    {
     "name": "stdout",
     "output_type": "stream",
     "text": [
      "=== [b] Altitude with user-provided orbital period ===\n",
      "For T = 82000.0 seconds, the satellite's altitude should be 34409.83 km.\n",
      "\n",
      "=== [c] Standard altitudes ===\n",
      "Geosynchronous (1 day = 86400s): Altitude = 35855.91 km\n",
      "Low orbit (90 min = 5400s): Altitude = 279.32 km\n",
      "Very low orbit (45 min = 2700s): Altitude = -2181.56 km\n",
      "\n",
      "=== [d] Difference between solar day and sidereal day ===\n",
      "\n",
      "[d] A correct geosynchronous satellite uses the **sidereal day** (~23.93h or 86164s), not the solar day (86400s).\n",
      "Altitude for T = 86400s (solar day): 35855.91 km\n",
      "Altitude for T = 86164s (sidereal day): 35778.98 km\n",
      "→ Altitude difference: 76929.73 m\n"
     ]
    }
   ],
   "source": [
    "print(\"=== [b] Altitude with user-provided orbital period ===\")\n",
    "ask_user_input()\n",
    "\n",
    "print(\"\\n=== [c] Standard altitudes ===\")\n",
    "calculate_standard_altitudes()\n",
    "\n",
    "print(\"\\n=== [d] Difference between solar day and sidereal day ===\")\n",
    "calculate_sidereal_difference()"
   ]
  }
 ],
 "metadata": {
  "kernelspec": {
   "display_name": "Python 3",
   "language": "python",
   "name": "python3"
  },
  "language_info": {
   "codemirror_mode": {
    "name": "ipython",
    "version": 3
   },
   "file_extension": ".py",
   "mimetype": "text/x-python",
   "name": "python",
   "nbconvert_exporter": "python",
   "pygments_lexer": "ipython3",
   "version": "3.13.5"
  }
 },
 "nbformat": 4,
 "nbformat_minor": 2
}
